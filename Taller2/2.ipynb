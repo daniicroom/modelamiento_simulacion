{
 "cells": [
  {
   "attachments": {},
   "cell_type": "markdown",
   "metadata": {},
   "source": [
    "import library and connect to database"
   ]
  },
  {
   "cell_type": "code",
   "execution_count": 10,
   "metadata": {},
   "outputs": [
    {
     "name": "stdout",
     "output_type": "stream",
     "text": [
      "(datetime.date(2023, 4, 5), 6363098, datetime.date(2023, 3, 11), 20, 'CESAR', 20011, 'AGUACHICA', 39, 1, 'M', 'Comunitaria', 'Casa', 'Leve', None, None, 'Activo', datetime.date(2023, 3, 7), None, datetime.date(2023, 3, 22), None, None, None, None)\n",
      "(datetime.date(2023, 4, 5), 6363097, datetime.date(2023, 3, 19), 47001, 'STA MARTA D.E.', 47001, 'SANTA MARTA', 14, 1, 'F', 'Comunitaria', 'Casa', 'Leve', None, None, 'Activo', datetime.date(2023, 3, 15), None, datetime.date(2023, 3, 30), None, None, None, None)\n",
      "(datetime.date(2023, 4, 5), 6363096, datetime.date(2023, 3, 13), 54, 'NORTE SANTANDER', 54874, 'VILLA DEL ROSARIO', 48, 1, 'F', 'Comunitaria', 'Casa', 'Leve', None, None, 'Activo', datetime.date(2023, 3, 9), None, datetime.date(2023, 3, 24), None, None, None, None)\n",
      "(datetime.date(2023, 4, 5), 6363095, datetime.date(2023, 3, 19), 44, 'GUAJIRA', 44650, 'SAN JUAN DEL CESAR', 70, 1, 'M', 'Comunitaria', 'Casa', 'Leve', None, None, 'Activo', datetime.date(2023, 3, 16), None, datetime.date(2023, 3, 30), None, None, None, None)\n",
      "(datetime.date(2023, 4, 5), 6363094, datetime.date(2023, 3, 16), 20, 'CESAR', 20013, 'AGUSTIN CODAZZI', 53, 1, 'M', 'Comunitaria', 'Casa', 'Leve', None, None, 'Activo', datetime.date(2023, 3, 12), None, datetime.date(2023, 3, 27), None, None, None, None)\n",
      "(datetime.date(2023, 4, 5), 6363093, datetime.date(2023, 3, 20), 13001, 'CARTAGENA', 13001, 'CARTAGENA', 51, 1, 'F', 'Comunitaria', 'Casa', 'Leve', None, None, 'Activo', datetime.date(2023, 3, 17), None, datetime.date(2023, 3, 31), None, None, None, None)\n",
      "(datetime.date(2023, 4, 5), 6363092, datetime.date(2023, 3, 20), 20, 'CESAR', 20001, 'VALLEDUPAR', 83, 1, 'M', 'Comunitaria', 'Casa', 'Leve', None, None, 'Activo', datetime.date(2023, 3, 16), None, datetime.date(2023, 3, 31), None, None, None, None)\n",
      "(datetime.date(2023, 4, 5), 6363091, datetime.date(2023, 3, 17), 25, 'CUNDINAMARCA', 25899, 'ZIPAQUIRA', 69, 1, 'F', 'Comunitaria', 'Casa', 'Leve', None, None, 'Activo', datetime.date(2023, 3, 13), None, datetime.date(2023, 3, 28), None, None, None, None)\n",
      "(datetime.date(2023, 4, 5), 6363090, datetime.date(2023, 3, 18), 54, 'NORTE SANTANDER', 54001, 'CUCUTA', 42, 1, 'F', 'Comunitaria', 'Casa', 'Leve', None, None, 'Activo', datetime.date(2023, 3, 14), None, datetime.date(2023, 3, 29), None, None, None, None)\n",
      "(datetime.date(2023, 4, 5), 6363089, datetime.date(2023, 3, 18), 44, 'GUAJIRA', 44078, 'BARRANCAS', 82, 1, 'F', 'Comunitaria', 'Casa', 'Leve', None, None, 'Activo', datetime.date(2023, 3, 15), None, datetime.date(2023, 3, 29), None, None, None, None)\n"
     ]
    }
   ],
   "source": [
    "import psycopg2\n",
    "import pandas as pd\n",
    "\n",
    "conn = psycopg2.connect(database=\"itm_ms\", user = \"guest\", password = \"guest2023*\", host = \"database-1-itm-ms.cilulcrjbtir.us-east-1.rds.amazonaws.com\", port = \"5432\")\n",
    "cur = conn.cursor()\n",
    "cur.execute(\"SELECT * FROM covid19 ORDER BY id_de_caso DESC LIMIT 10\")\n",
    "#print(cur)\n",
    "records = cur.fetchall()\n",
    "for i in records:\n",
    "    print(i)"
   ]
  }
 ],
 "metadata": {
  "kernelspec": {
   "display_name": "Python 3",
   "language": "python",
   "name": "python3"
  },
  "language_info": {
   "codemirror_mode": {
    "name": "ipython",
    "version": 3
   },
   "file_extension": ".py",
   "mimetype": "text/x-python",
   "name": "python",
   "nbconvert_exporter": "python",
   "pygments_lexer": "ipython3",
   "version": "3.11.2"
  },
  "orig_nbformat": 4
 },
 "nbformat": 4,
 "nbformat_minor": 2
}
